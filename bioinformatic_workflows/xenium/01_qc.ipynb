{
 "cells": [
  {
   "cell_type": "code",
   "execution_count": null,
   "metadata": {},
   "outputs": [],
   "source": [
    "import squidpy as sd\n",
    "import scanpy as sc\n",
    "# import pandas as pd\n",
    "import numpy as np\n",
    "# import anndata as ad\n",
    "# import spatialdata_io as sio\n",
    "from matplotlib.pyplot import plt\n",
    "from pyprojroot import here\n"
   ]
  },
  {
   "cell_type": "markdown",
   "metadata": {},
   "source": [
    "This notebook walks you through standard QC of Xenium data. This notebook will not cover region selection. It is assumed you are using this to check an entire sample, which can later be analyzed with a narrower focus. \n",
    "\n",
    "Some of this code is adapted from [10x's analysis guide](https://www.10xgenomics.com/analysis-guides/xenium-downstream-analysis-in-python-tutorial)"
   ]
  },
  {
   "cell_type": "markdown",
   "metadata": {},
   "source": [
    "# Load data"
   ]
  },
  {
   "cell_type": "code",
   "execution_count": null,
   "metadata": {},
   "outputs": [],
   "source": [
    "sdata = sd.read_zarr(\"breast.zarr/\")\n",
    "sdata"
   ]
  },
  {
   "cell_type": "markdown",
   "metadata": {},
   "source": [
    "The spatial object contains images and cell boundary definitions, which take up a lot of space. We mostly work with the single-cell like anndata object. "
   ]
  },
  {
   "cell_type": "code",
   "execution_count": null,
   "metadata": {},
   "outputs": [],
   "source": [
    "adata = sdata[\"table\"]\n",
    "# We store the raw counts in the layers in case we need it for future purposes\n",
    "adata.layers[\"counts\"] = adata.X.copy()"
   ]
  },
  {
   "cell_type": "markdown",
   "metadata": {},
   "source": [
    "# Filtering cells"
   ]
  },
  {
   "cell_type": "markdown",
   "metadata": {},
   "source": [
    "We want to remove cells with low transcript counts. Here we plot the distribution of transcript counts per cell in a histogram to determine the transcript count cutoff to remove cells with low transcript counts. The determination of lower cutoff can be subjective. There is no gold-standard rule. "
   ]
  },
  {
   "cell_type": "code",
   "execution_count": null,
   "metadata": {},
   "outputs": [],
   "source": [
    "fig = plt.hist(adata.obs[\"total_counts\"], range=(0, 200), bins=100)\n",
    "plt.axvline(x=20, color=\"r\", linestyle=\"--\")\n",
    "\n",
    "plt.xlabel(\"Transcripts per cell\")\n",
    "plt.ylabel(\"Number of cells\")"
   ]
  },
  {
   "cell_type": "code",
   "execution_count": null,
   "metadata": {},
   "outputs": [],
   "source": [
    "## Apply a hard cutoff for transcripts per cell, or use a quantile-based approach\n",
    "thres = np.quantile(adata.obs[\"total_counts\"], 0.98)\n",
    "sc.pp.filter_cells(adata, min_counts=20)\n",
    "sc.pp.filter_cells(adata, max_counts=thres)\n",
    "\n",
    "## TODO: implement a nMAD approach for outlier detection"
   ]
  },
  {
   "cell_type": "markdown",
   "metadata": {},
   "source": [
    "# Feature selection"
   ]
  },
  {
   "cell_type": "code",
   "execution_count": null,
   "metadata": {},
   "outputs": [],
   "source": [
    "# We also filter out genes that are rarely expressed\n",
    "# Adjust this value based on the # of cells in your sample\n",
    "sc.pp.filter_genes(adata, min_cells=100)"
   ]
  },
  {
   "cell_type": "markdown",
   "metadata": {},
   "source": [
    "If you have a large panel (>2k genes), defining highly variable genes is needed for downstream dimensional reduction"
   ]
  },
  {
   "cell_type": "code",
   "execution_count": null,
   "metadata": {},
   "outputs": [],
   "source": [
    "if adata.n_vars > 2000:\n",
    "    sc.pp.highly_variable_genes(adata, n_top_genes=2000)"
   ]
  },
  {
   "cell_type": "markdown",
   "metadata": {},
   "source": [
    "# Normalize, log-transform, and scale"
   ]
  },
  {
   "cell_type": "code",
   "execution_count": null,
   "metadata": {},
   "outputs": [],
   "source": [
    "sc.pp.normalize_total(adata)\n",
    "sc.pp.log1p(adata)\n",
    "adata.layers[\"lognorm\"] = adata.X.copy()"
   ]
  },
  {
   "cell_type": "code",
   "execution_count": null,
   "metadata": {},
   "outputs": [],
   "source": [
    "# Scaling of data, we don't center the data here as the data centering is done in PCA and this keeps the X sparse for memory efficiency.\n",
    "sc.pp.scale(adata, zero_center=False, max_value=10)"
   ]
  },
  {
   "cell_type": "code",
   "execution_count": null,
   "metadata": {},
   "outputs": [],
   "source": [
    "# PCA for dimension reduction further by UMAP for downstream analysis\n",
    "sc.pp.pca(adata, n_comps=30)\n",
    "sc.pp.neighbors(adata, metric=\"cosine\")\n",
    "# clustering with leiden. We use igraph here as it scales better. The resolution is a hyper-parameter. A higher resolution will output more clusters.\n",
    "sc.tl.leiden(adata, flavor=\"igraph\", n_iterations=-1, resolution=0.5)"
   ]
  },
  {
   "cell_type": "markdown",
   "metadata": {},
   "source": [
    "# UMAP"
   ]
  },
  {
   "cell_type": "code",
   "execution_count": null,
   "metadata": {},
   "outputs": [],
   "source": [
    "## this may take a while\n",
    "sc.tl.umap(adata)"
   ]
  },
  {
   "cell_type": "code",
   "execution_count": null,
   "metadata": {},
   "outputs": [],
   "source": [
    "sc.pl.umap(adata, color=\"leiden\")"
   ]
  },
  {
   "cell_type": "code",
   "execution_count": null,
   "metadata": {},
   "outputs": [],
   "source": [
    "sdata.tables[\"table\"].obs[\"region\"] = \"cell_boundaries\"\n",
    "sdata.set_table_annotates_spatialelement(\"table\", region=\"cell_boundaries\")\n",
    "\n",
    "sdata.pl.render_shapes(\"cell_boundaries\", color=\"leiden\").pl.show(figsize=(12.8, 9.6))"
   ]
  },
  {
   "cell_type": "markdown",
   "metadata": {},
   "source": [
    "# Save"
   ]
  },
  {
   "cell_type": "code",
   "execution_count": null,
   "metadata": {},
   "outputs": [],
   "source": [
    "# sdata.write(\"breast_processed.zarr\", overwrite=True)\n",
    "## Alternatively, could just save the adata for lighter footprint\n",
    "adata.write(here('03_analysis/04_checkpoints/01_qc-filtered.h5ad'))\n"
   ]
  }
 ],
 "metadata": {
  "language_info": {
   "name": "python"
  }
 },
 "nbformat": 4,
 "nbformat_minor": 2
}
